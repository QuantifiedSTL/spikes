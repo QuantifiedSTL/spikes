{
 "metadata": {
  "name": "",
  "signature": "sha256:64965c3cfce41e7680aafad5fd40ef3648732a449fe7bc72783d848dc065b631"
 },
 "nbformat": 3,
 "nbformat_minor": 0,
 "worksheets": [
  {
   "cells": [
    {
     "cell_type": "heading",
     "level": 1,
     "metadata": {},
     "source": [
      "Simple analysis of videos posted on the Quantified Self blog"
     ]
    },
    {
     "cell_type": "heading",
     "level": 3,
     "metadata": {},
     "source": [
      "Useful references"
     ]
    },
    {
     "cell_type": "markdown",
     "metadata": {},
     "source": [
      "Python scraping:\n",
      "* http://docs.python-guide.org/en/latest/scenarios/scrape/\n",
      "\n",
      "Vimeo API:\n",
      "* https://developer.vimeo.com/apis/simple"
     ]
    },
    {
     "cell_type": "heading",
     "level": 3,
     "metadata": {},
     "source": [
      "Imports"
     ]
    },
    {
     "cell_type": "code",
     "collapsed": false,
     "input": [
      "from lxml import html\n",
      "import requests\n",
      "import re\n",
      "import json\n",
      "import datetime\n",
      "\n",
      "import matplotlib.pyplot as plt\n",
      "import numpy as np\n",
      "\n",
      "%matplotlib inline"
     ],
     "language": "python",
     "metadata": {},
     "outputs": [],
     "prompt_number": 236
    },
    {
     "cell_type": "heading",
     "level": 3,
     "metadata": {},
     "source": [
      "Single page spike"
     ]
    },
    {
     "cell_type": "code",
     "collapsed": false,
     "input": [
      "page = requests.get('http://quantifiedself.com/topics/videos/page/1/')\n",
      "root = html.fromstring(page.text)"
     ],
     "language": "python",
     "metadata": {},
     "outputs": [],
     "prompt_number": 250
    },
    {
     "cell_type": "code",
     "collapsed": false,
     "input": [
      "posts = root.xpath('//h2[@class=\"entry-title\"]')"
     ],
     "language": "python",
     "metadata": {},
     "outputs": [],
     "prompt_number": 251
    },
    {
     "cell_type": "code",
     "collapsed": true,
     "input": [
      "posts"
     ],
     "language": "python",
     "metadata": {},
     "outputs": [
      {
       "metadata": {},
       "output_type": "pyout",
       "prompt_number": 252,
       "text": [
        "[<Element h2 at 0x1058da578>,\n",
        " <Element h2 at 0x10c6d2a48>,\n",
        " <Element h2 at 0x10c6d2998>,\n",
        " <Element h2 at 0x10c6d2c00>,\n",
        " <Element h2 at 0x10c6d2d60>,\n",
        " <Element h2 at 0x10c6d2470>,\n",
        " <Element h2 at 0x10c6d2158>,\n",
        " <Element h2 at 0x10c6d2aa0>,\n",
        " <Element h2 at 0x10c6d27e0>,\n",
        " <Element h2 at 0x10c7dd470>]"
       ]
      }
     ],
     "prompt_number": 252
    },
    {
     "cell_type": "code",
     "collapsed": false,
     "input": [
      "postlink = posts[0].getparent().xpath('.//h2[@class=\"entry-title\"]/a/@href')\n",
      "print postlink"
     ],
     "language": "python",
     "metadata": {},
     "outputs": [
      {
       "output_type": "stream",
       "stream": "stdout",
       "text": [
        "['http://quantifiedself.com/2014/07/alberto-frigo-a-36-year-tracking-project/']\n"
       ]
      }
     ],
     "prompt_number": 253
    },
    {
     "cell_type": "code",
     "collapsed": false,
     "input": [
      "postlink = posts[0].getparent().xpath('.//h2[@class=\"entry-title\"]/a/text()')\n",
      "print postlink"
     ],
     "language": "python",
     "metadata": {},
     "outputs": [
      {
       "output_type": "stream",
       "stream": "stdout",
       "text": [
        "['Alberto Frigo: A 36-year Tracking Project']\n"
       ]
      }
     ],
     "prompt_number": 254
    },
    {
     "cell_type": "code",
     "collapsed": false,
     "input": [
      "date = posts[0].getparent().xpath('.//div[@class=\"entry-meta\"]//span[@class=\"entry-date\"]/text()')\n",
      "print date"
     ],
     "language": "python",
     "metadata": {},
     "outputs": [
      {
       "output_type": "stream",
       "stream": "stdout",
       "text": [
        "['July 3, 2014']\n"
       ]
      }
     ],
     "prompt_number": 255
    },
    {
     "cell_type": "code",
     "collapsed": false,
     "input": [
      "videolink = posts[0].getparent().xpath('.//div[@class=\"entry-summary\"]//iframe/@src | .//div[@class=\"entry-summary\"]//embed/@src')\n",
      "print videolink"
     ],
     "language": "python",
     "metadata": {},
     "outputs": [
      {
       "output_type": "stream",
       "stream": "stdout",
       "text": [
        "['//player.vimeo.com/video/99536159?title=0&byline=0&portrait=0']\n"
       ]
      }
     ],
     "prompt_number": 256
    },
    {
     "cell_type": "code",
     "collapsed": false,
     "input": [
      "tags = posts[0].getparent().xpath('.//div[@class=\"entry-utility\"]//a[@rel=\"tag\"]/text()')\n",
      "print tags"
     ],
     "language": "python",
     "metadata": {},
     "outputs": [
      {
       "output_type": "stream",
       "stream": "stdout",
       "text": [
        "['2004-2040', 'art', 'media', 'qseu14', 'qstop', 'self', 'Self-Tracking']\n"
       ]
      }
     ],
     "prompt_number": 257
    },
    {
     "cell_type": "heading",
     "level": 3,
     "metadata": {},
     "source": [
      "Scraping functions"
     ]
    },
    {
     "cell_type": "code",
     "collapsed": false,
     "input": [
      "def extractVideoId(url):\n",
      "    res = re.sub(r'.+?(\\d\\d\\d+)[\\?&].+', r'\\1', url)\n",
      "    if len(res) > 10:\n",
      "        res = re.sub(r'.+/video/(\\d\\d\\d+)', r'\\1', url)\n",
      "    if len(res) > 10:\n",
      "        res = \"\"\n",
      "    return res"
     ],
     "language": "python",
     "metadata": {},
     "outputs": [],
     "prompt_number": 58
    },
    {
     "cell_type": "code",
     "collapsed": false,
     "input": [
      "def getValue(dictionary, key):\n",
      "    return dictionary[key] if key in dictionary else None"
     ],
     "language": "python",
     "metadata": {},
     "outputs": [],
     "prompt_number": 84
    },
    {
     "cell_type": "code",
     "collapsed": false,
     "input": [
      "def vimeoStats(id):\n",
      "    data={}\n",
      "    if len(id)>0:\n",
      "        res = requests.get('http://vimeo.com/api/v2/video/' + id + '.json')\n",
      "        if res:\n",
      "            json = res.json()\n",
      "            data[\"uploaddate\"] = getValue(json[0], u'upload_date')     \n",
      "            data[\"duration\"] = getValue(json[0], u'duration')\n",
      "            data[\"numlikes\"] = getValue(json[0], u'stats_number_of_likes')\n",
      "            data[\"numplays\"] = getValue(json[0], u'stats_number_of_plays')\n",
      "            tags = getValue(json[0], u'tags')\n",
      "            data[\"vimeotags\"] = tags.split(u', ') if len(tags)>0 else []\n",
      "    return data"
     ],
     "language": "python",
     "metadata": {},
     "outputs": [],
     "prompt_number": 86
    },
    {
     "cell_type": "code",
     "collapsed": false,
     "input": [
      "def makeVideoJSON(postelement, videoContainer):\n",
      "    res = postelement.xpath('.//*[@class=\"' + videoContainer + '\"]//iframe/@src | .//*[@class=\"' + videoContainer + '\"]//embed/@src')\n",
      "    vimeoId = extractVideoId(res[0]) if res else \"\"\n",
      "    json = vimeoStats(vimeoId)\n",
      "    \n",
      "    res = postelement.xpath('.//*[@class=\"entry-title\"]/a/@href')\n",
      "    json[\"postlink\"] = res[0] if res else \"\"\n",
      "    \n",
      "    res = postelement.xpath('.//*[@class=\"entry-title\"]/a/text()')\n",
      "    json[\"title\"] = res[0] if res else \"\"\n",
      "    \n",
      "    res = postelement.xpath('.//*[@class=\"entry-meta\"]//span[@class=\"entry-date\"]/text()')\n",
      "    json[\"date\"] = res[0] if res else \"\"\n",
      "    \n",
      "    json[\"blogtags\"] = postelement.xpath('.//*[@class=\"entry-utility\"]//a[@rel=\"tag\"]/text()')\n",
      "    \n",
      "    return json"
     ],
     "language": "python",
     "metadata": {},
     "outputs": [],
     "prompt_number": 258
    },
    {
     "cell_type": "code",
     "collapsed": false,
     "input": [
      "def scrapeVideoDataFromPageUrl(url, videoContainer):\n",
      "    page = requests.get(url)\n",
      "    root = html.fromstring(page.text)\n",
      "    posts = root.xpath('//*[@class=\"entry-title\"]')\n",
      "    return [makeVideoJSON(elem.getparent(), videoContainer) for elem in posts]\n",
      "    \n",
      "def scrapeVideoDataFromPageNum(num):\n",
      "    return scrapeVideoDataFromPageUrl('http://quantifiedself.com/topics/videos/page/' + str(num), 'entry-summary')"
     ],
     "language": "python",
     "metadata": {},
     "outputs": [],
     "prompt_number": 259
    },
    {
     "cell_type": "code",
     "collapsed": false,
     "input": [
      "def scrapePagesInRange(firstPage, lastPage):\n",
      "    result = []\n",
      "    for i in range(firstPage,(lastPage+1)):\n",
      "        print i\n",
      "        res = scrapeVideoDataFromPageNum(i)\n",
      "        print len(res)\n",
      "        result.extend(res)\n",
      "    return result"
     ],
     "language": "python",
     "metadata": {},
     "outputs": [],
     "prompt_number": 260
    },
    {
     "cell_type": "heading",
     "level": 3,
     "metadata": {},
     "source": [
      "Scrape the data"
     ]
    },
    {
     "cell_type": "code",
     "collapsed": false,
     "input": [
      "videodata=scrapePagesInRange(1,29)"
     ],
     "language": "python",
     "metadata": {},
     "outputs": [
      {
       "output_type": "stream",
       "stream": "stdout",
       "text": [
        "1\n",
        "10"
       ]
      },
      {
       "output_type": "stream",
       "stream": "stdout",
       "text": [
        "\n",
        "2\n",
        "10"
       ]
      },
      {
       "output_type": "stream",
       "stream": "stdout",
       "text": [
        "\n",
        "3\n",
        "10"
       ]
      },
      {
       "output_type": "stream",
       "stream": "stdout",
       "text": [
        "\n",
        "4\n",
        "10"
       ]
      },
      {
       "output_type": "stream",
       "stream": "stdout",
       "text": [
        "\n",
        "5\n",
        "10"
       ]
      },
      {
       "output_type": "stream",
       "stream": "stdout",
       "text": [
        "\n",
        "6\n",
        "10"
       ]
      },
      {
       "output_type": "stream",
       "stream": "stdout",
       "text": [
        "\n",
        "7\n",
        "10"
       ]
      },
      {
       "output_type": "stream",
       "stream": "stdout",
       "text": [
        "\n",
        "8\n",
        "10"
       ]
      },
      {
       "output_type": "stream",
       "stream": "stdout",
       "text": [
        "\n",
        "9\n",
        "10"
       ]
      },
      {
       "output_type": "stream",
       "stream": "stdout",
       "text": [
        "\n",
        "10\n",
        "10"
       ]
      },
      {
       "output_type": "stream",
       "stream": "stdout",
       "text": [
        "\n",
        "11\n",
        "10"
       ]
      },
      {
       "output_type": "stream",
       "stream": "stdout",
       "text": [
        "\n",
        "12\n",
        "10"
       ]
      },
      {
       "output_type": "stream",
       "stream": "stdout",
       "text": [
        "\n",
        "13\n",
        "10"
       ]
      },
      {
       "output_type": "stream",
       "stream": "stdout",
       "text": [
        "\n",
        "14\n",
        "10"
       ]
      },
      {
       "output_type": "stream",
       "stream": "stdout",
       "text": [
        "\n",
        "15\n",
        "10"
       ]
      },
      {
       "output_type": "stream",
       "stream": "stdout",
       "text": [
        "\n",
        "16\n",
        "10"
       ]
      },
      {
       "output_type": "stream",
       "stream": "stdout",
       "text": [
        "\n",
        "17\n",
        "10"
       ]
      },
      {
       "output_type": "stream",
       "stream": "stdout",
       "text": [
        "\n",
        "18\n",
        "10"
       ]
      },
      {
       "output_type": "stream",
       "stream": "stdout",
       "text": [
        "\n",
        "19\n",
        "10"
       ]
      },
      {
       "output_type": "stream",
       "stream": "stdout",
       "text": [
        "\n",
        "20\n",
        "10"
       ]
      },
      {
       "output_type": "stream",
       "stream": "stdout",
       "text": [
        "\n",
        "21\n",
        "10"
       ]
      },
      {
       "output_type": "stream",
       "stream": "stdout",
       "text": [
        "\n",
        "22\n",
        "10"
       ]
      },
      {
       "output_type": "stream",
       "stream": "stdout",
       "text": [
        "\n",
        "23\n",
        "10"
       ]
      },
      {
       "output_type": "stream",
       "stream": "stdout",
       "text": [
        "\n",
        "24\n",
        "10"
       ]
      },
      {
       "output_type": "stream",
       "stream": "stdout",
       "text": [
        "\n",
        "25\n",
        "10"
       ]
      },
      {
       "output_type": "stream",
       "stream": "stdout",
       "text": [
        "\n",
        "26\n",
        "10"
       ]
      },
      {
       "output_type": "stream",
       "stream": "stdout",
       "text": [
        "\n",
        "27\n",
        "10"
       ]
      },
      {
       "output_type": "stream",
       "stream": "stdout",
       "text": [
        "\n",
        "28\n",
        "10"
       ]
      },
      {
       "output_type": "stream",
       "stream": "stdout",
       "text": [
        "\n",
        "29\n",
        "10"
       ]
      },
      {
       "output_type": "stream",
       "stream": "stdout",
       "text": [
        "\n"
       ]
      }
     ],
     "prompt_number": 281
    },
    {
     "cell_type": "code",
     "collapsed": false,
     "input": [
      "def formatDate(elem):\n",
      "    date = datetime.datetime.strptime(elem[\"date\"].replace(' ',''), '%B%d,%Y')\n",
      "    elem[\"date\"] = date.strftime('%Y/%m/%d')\n",
      "    return elem"
     ],
     "language": "python",
     "metadata": {},
     "outputs": [],
     "prompt_number": 282
    },
    {
     "cell_type": "code",
     "collapsed": false,
     "input": [
      "videodata = [formatDate(elem) for elem in videodata]"
     ],
     "language": "python",
     "metadata": {},
     "outputs": [],
     "prompt_number": 283
    },
    {
     "cell_type": "code",
     "collapsed": false,
     "input": [
      "with open('qsvideostats.json', 'w') as outfile:\n",
      "  json.dump(videodata, outfile)"
     ],
     "language": "python",
     "metadata": {},
     "outputs": [],
     "prompt_number": 286
    },
    {
     "cell_type": "heading",
     "level": 3,
     "metadata": {},
     "source": [
      "Analysis"
     ]
    },
    {
     "cell_type": "heading",
     "level": 5,
     "metadata": {},
     "source": [
      "Ranking by popularity"
     ]
    },
    {
     "cell_type": "code",
     "collapsed": false,
     "input": [
      "def keepElemByPlays(elem):\n",
      "    # note: this removes a single outlier that's off the charts \n",
      "    return (\"numplays\" in elem) and (elem[\"numplays\"] != None) and (elem[\"numplays\"] < 10000)\n",
      "def keepElemByLikes(elem):\n",
      "    return (\"numlikes\" in elem) and (elem[\"numlikes\"] != None) and (elem[\"numlikes\"] < 100)\n",
      "def keepElem(elem):\n",
      "    return keepElemByPlays(elem) and keepElemByLikes(elem)"
     ],
     "language": "python",
     "metadata": {},
     "outputs": [],
     "prompt_number": 363
    },
    {
     "cell_type": "code",
     "collapsed": false,
     "input": [
      "filtereddata = [elem for elem in videodata if keepElem(elem)]"
     ],
     "language": "python",
     "metadata": {},
     "outputs": [],
     "prompt_number": 364
    },
    {
     "cell_type": "code",
     "collapsed": false,
     "input": [
      "plt.hist([elem[\"numplays\"] for elem in filtereddata],20)\n",
      "plt.show()"
     ],
     "language": "python",
     "metadata": {},
     "outputs": [
      {
       "metadata": {},
       "output_type": "display_data",
       "png": "[encoded data removed]",
       "text": [
        "<matplotlib.figure.Figure at 0x10c57e890>"
       ]
      }
     ],
     "prompt_number": 289
    },
    {
     "cell_type": "code",
     "collapsed": false,
     "input": [
      "plt.hist([elem[\"numlikes\"] for elem in filtereddata],20)\n",
      "plt.show()"
     ],
     "language": "python",
     "metadata": {},
     "outputs": [
      {
       "metadata": {},
       "output_type": "display_data",
       "png": "[encoded data removed]",
       "text": [
        "<matplotlib.figure.Figure at 0x10c88f2d0>"
       ]
      }
     ],
     "prompt_number": 290
    },
    {
     "cell_type": "code",
     "collapsed": false,
     "input": [
      "def addRank(elem, rank, type):\n",
      "    elem[\"rankby\"+type] = rank\n",
      "    return elem"
     ],
     "language": "python",
     "metadata": {},
     "outputs": [],
     "prompt_number": 291
    },
    {
     "cell_type": "code",
     "collapsed": false,
     "input": [
      "sorteddata=sorted(filtereddata, key=lambda k: k['numplays'])[::-1]\n",
      "sorteddata=[addRank(elem,ind,\"plays\") for ind, elem in enumerate(sorteddata)]"
     ],
     "language": "python",
     "metadata": {},
     "outputs": [],
     "prompt_number": 365
    },
    {
     "cell_type": "code",
     "collapsed": false,
     "input": [
      "def makeTableRow(elem):\n",
      "    return \"| \" + str(elem[\"numplays\"]) + ' | ' + str(elem[\"numlikes\"]) + ' | ' + '<a href=\"' + elem[\"postlink\"] + '\">' + elem[\"title\"] + '</a> | ' + elem[\"date\"] + ' | ' + \"%0.1f\" % (elem[\"duration\"]/60.0)\n",
      "def makeTable(elems):\n",
      "    rows = [makeTableRow(elem) for elem in elems]\n",
      "    return \"\\n\".join(rows)"
     ],
     "language": "python",
     "metadata": {},
     "outputs": [],
     "prompt_number": 350
    },
    {
     "cell_type": "code",
     "collapsed": false,
     "input": [
      "print makeTable(sorteddata[0:19])"
     ],
     "language": "python",
     "metadata": {},
     "outputs": [
      {
       "output_type": "stream",
       "stream": "stdout",
       "text": [
        "| 6444 | 6 | <a href=\"http://quantifiedself.com/2010/10/eri-gentry-on-butter-mindcocon/\">Eri Gentry on Butter Mind/Coconut Mind</a> | 2010/10/16 | 4.7\n",
        "| 5879 | 5 | <a href=\"http://quantifiedself.com/2009/06/hulda-emilsdottir-and-josh-kle/\">Hulda Emilsdottir and Josh Klein on Tracking Possessions</a> | 2009/06/20 | 12.8\n",
        "| 3515 | 12 | <a href=\"http://quantifiedself.com/2013/12/mark-moschel-tracking-rejections/\">Mark Moschel on Tracking Rejection</a> | 2013/12/07 | 5.2\n",
        "| 3369 | 5 | <a href=\"http://quantifiedself.com/2010/09/seth-roberts-on-arithmetic-and/\">Seth Roberts on Arithmetic and Butter</a> | 2010/09/29 | 15.3\n",
        "| 3149 | 6 | <a href=\"http://quantifiedself.com/2012/07/nick-winter-a-lazy-mans-approach-to-cognitive-testing/\">Nick Winter: The Lazy Man Approach to Cognitive Testing</a> | 2012/07/30 | 0.0\n",
        "| 3105 | 14 | <a href=\"http://quantifiedself.com/2012/01/amelia-greenhall-weigh-everyday-understanding/\">Amelia Greenhall: Weigh Everyday = Understanding</a> | 2012/01/02 | 16.8\n",
        "| 2980 | 13 | <a href=\"http://quantifiedself.com/2012/05/jeremy-howard-on-language-acquisition-performance/\">Jeremy Howard on Language Acquisition Performance</a> | 2012/05/28 | 16.0\n",
        "| 2756 | 2 | <a href=\"http://quantifiedself.com/2013/09/greg-pomerantz-trying-high-carbohydrate-diet/\">Greg Pomerantz on Trying a High Carbohydrate Diet</a> | 2013/09/16 | 10.4\n",
        "| 2710 | 20 | <a href=\"http://quantifiedself.com/2010/11/beer-van-geer-on-meditation-tr/\">Beer van Geer on Meditation Training</a> | 2010/11/02 | 13.2\n",
        "| 2613 | 22 | <a href=\"http://quantifiedself.com/2011/12/nick-crocker-floss-the-teeth-you-want-to-keep/\">Nick Crocker: Floss the Teeth You Want To Keep</a> | 2011/12/27 | 6.1\n",
        "| 2591 | 7 | <a href=\"http://quantifiedself.com/2009/04/stop-worrying-and-start-experi/\">Stop worrying and start experimenting!</a> | 2009/04/15 | 11.4\n",
        "| 2503 | 6 | <a href=\"http://quantifiedself.com/2011/08/victor-van-doorn-on-replay-my-day/\">Victor van Doorn on Replay My Day</a> | 2011/08/11 | 5.2\n",
        "| 2388 | 7 | <a href=\"http://quantifiedself.com/2011/08/nancy-dougherty-on-mindfulness-pills/\">Nancy Dougherty on Mindfulness Pills</a> | 2011/08/07 | 6.8\n",
        "| 2278 | 1 | <a href=\"http://quantifiedself.com/2013/08/matthew-ames-on-stepping-on-the-scale/\">Matthew Ames on Stepping on the Scale</a> | 2013/08/17 | 12.5\n",
        "| 2278 | 1 | <a href=\"http://quantifiedself.com/2013/09/matthew-ames-one-small-step-scale/\">Matthew Ames \u2013 One Small Step on a Scale</a> | 2013/09/05 | 12.5\n",
        "| 2198 | 6 | <a href=\"http://quantifiedself.com/2013/01/adi-andrei-on-hacking-your-subconscious-mind/\">Adi Andrei on Hacking Your Subconscious Mind</a> | 2013/01/10 | 27.9\n",
        "| 2136 | 9 | <a href=\"http://quantifiedself.com/2014/01/gary-monk-hrv-for-relaxation/\">Gary Monk on Tracking HRV for Relaxation and Focus</a> | 2014/01/15 | 23.3\n",
        "| 2103 | 5 | <a href=\"http://quantifiedself.com/2011/08/ted-punt-on-contactless-monitoring-systems/\">Ted Punt on Contactless Monitoring Systems</a> | 2011/08/20 | 16.1\n",
        "| 2040 | 6 | <a href=\"http://quantifiedself.com/2010/11/jon-cousins-on-moodscope/\">Jon Cousins on Moodscope</a> | 2010/11/28 | 14.5\n"
       ]
      }
     ],
     "prompt_number": 352
    },
    {
     "cell_type": "code",
     "collapsed": false,
     "input": [
      "sorteddata=sorted(sorteddata, key=lambda k: k['numlikes'])[::-1]\n",
      "sorteddata=[addRank(elem,ind,\"likes\") for ind, elem in enumerate(sorteddata)]"
     ],
     "language": "python",
     "metadata": {},
     "outputs": [],
     "prompt_number": 353
    },
    {
     "cell_type": "code",
     "collapsed": false,
     "input": [
      "print makeTable(sorteddata[0:19])"
     ],
     "language": "python",
     "metadata": {},
     "outputs": [
      {
       "output_type": "stream",
       "stream": "stdout",
       "text": [
        "| 2613 | 22 | <a href=\"http://quantifiedself.com/2011/12/nick-crocker-floss-the-teeth-you-want-to-keep/\">Nick Crocker: Floss the Teeth You Want To Keep</a> | 2011/12/27 | 6.1\n",
        "| 2710 | 20 | <a href=\"http://quantifiedself.com/2010/11/beer-van-geer-on-meditation-tr/\">Beer van Geer on Meditation Training</a> | 2010/11/02 | 13.2\n",
        "| 1838 | 19 | <a href=\"http://quantifiedself.com/2013/04/amy-robinson-on-quantifying-curiosity/\">Amy Robinson on Quantifying Curiosity</a> | 2013/04/03 | 14.9\n",
        "| 3105 | 14 | <a href=\"http://quantifiedself.com/2012/01/amelia-greenhall-weigh-everyday-understanding/\">Amelia Greenhall: Weigh Everyday = Understanding</a> | 2012/01/02 | 16.8\n",
        "| 2980 | 13 | <a href=\"http://quantifiedself.com/2012/05/jeremy-howard-on-language-acquisition-performance/\">Jeremy Howard on Language Acquisition Performance</a> | 2012/05/28 | 16.0\n",
        "| 1608 | 12 | <a href=\"http://quantifiedself.com/2011/12/catherine-hooper-on-hour-tracking-for-priority-optimization/\">Catherine Hooper on Hour Tracking for Priority Optimization</a> | 2011/12/13 | 7.9\n",
        "| 3515 | 12 | <a href=\"http://quantifiedself.com/2013/12/mark-moschel-tracking-rejections/\">Mark Moschel on Tracking Rejection</a> | 2013/12/07 | 5.2\n",
        "| 1656 | 11 | <a href=\"http://quantifiedself.com/2010/09/gordon-bell-on-mylifebits/\">Gordon Bell on MyLifeBits</a> | 2010/09/19 | 30.8\n",
        "| 1508 | 10 | <a href=\"http://quantifiedself.com/2013/02/qs-and-mindfulness/\">QS and Mindfulness</a> | 2013/02/06 | 16.6\n",
        "| 1533 | 10 | <a href=\"http://quantifiedself.com/2011/10/ari-meisel-on-curing-the-incurable-through-self-experimentation/\">Ari Meisel on Curing the Incurable Through Self-Experimentation</a> | 2011/10/10 | 10.2\n",
        "| 1143 | 9 | <a href=\"http://quantifiedself.com/2012/10/kevin-kelly-on-the-history-and-future-of-qs/\">Kevin Kelly on The History and Future of QS</a> | 2012/10/14 | 18.5\n",
        "| 1275 | 9 | <a href=\"http://quantifiedself.com/2012/05/stan-james/\">Stan James on Project Life Slice</a> | 2012/05/25 | 15.5\n",
        "| 2136 | 9 | <a href=\"http://quantifiedself.com/2014/01/gary-monk-hrv-for-relaxation/\">Gary Monk on Tracking HRV for Relaxation and Focus</a> | 2014/01/15 | 23.3\n",
        "| 638 | 8 | <a href=\"http://quantifiedself.com/2010/10/indhira-rojas-on-managing-cons/\">Indhira Rojas on Managing Consumption</a> | 2010/10/20 | 7.8\n",
        "| 814 | 8 | <a href=\"http://quantifiedself.com/2012/12/buster-benson-why-i-track/\">Buster Benson: Why I Track</a> | 2012/12/05 | 21.4\n",
        "| 1036 | 8 | <a href=\"http://quantifiedself.com/2011/12/buster-benson-how-i-use-rescuetime/\">Buster Benson: How I Use RescueTime</a> | 2011/12/21 | 14.9\n",
        "| 1258 | 8 | <a href=\"http://quantifiedself.com/2010/10/peter-robinett-on-predicting-p/\">Peter Robinett on Predicting Productivity</a> | 2010/10/23 | 9.5\n",
        "| 1717 | 8 | <a href=\"http://quantifiedself.com/2011/11/quantified-self-europe-starts/\">Quantified Self Europe starts!</a> | 2011/11/26 | 44.1\n",
        "| 1141 | 7 | <a href=\"http://quantifiedself.com/2012/11/carl-valle-on-three-key-metrics-for-immortality/\">Carl Valle on Three Key Metrics for Immortality</a> | 2012/11/19 | 16.5\n"
       ]
      }
     ],
     "prompt_number": 354
    },
    {
     "cell_type": "heading",
     "level": 5,
     "metadata": {},
     "source": [
      "Looking at video duration"
     ]
    },
    {
     "cell_type": "code",
     "collapsed": false,
     "input": [
      "durations = [elem[u'duration'] for elem in videodata if (u'duration' in elem) and (elem[u'duration']>0)]"
     ],
     "language": "python",
     "metadata": {},
     "outputs": [],
     "prompt_number": 240
    },
    {
     "cell_type": "code",
     "collapsed": false,
     "input": [
      "np.median(durations)/60"
     ],
     "language": "python",
     "metadata": {},
     "outputs": [
      {
       "metadata": {},
       "output_type": "pyout",
       "prompt_number": 246,
       "text": [
        "14.333333333333334"
       ]
      }
     ],
     "prompt_number": 246
    },
    {
     "cell_type": "code",
     "collapsed": false,
     "input": [
      "plt.hist([elem/60 for elem in durations],20,color='lightgray')\n",
      "plt.xlabel('durations (mins)')\n",
      "plt.ylabel('count')\n",
      "plt.savefig('durationhistogram.svg', format='svg')\n",
      "plt.show()"
     ],
     "language": "python",
     "metadata": {},
     "outputs": [
      {
       "metadata": {},
       "output_type": "display_data",
       "png": "[encoded data removed]",
       "text": [
        "<matplotlib.figure.Figure at 0x10c88c6d0>"
       ]
      }
     ],
     "prompt_number": 369
    }
   ],
   "metadata": {}
  }
 ]
}